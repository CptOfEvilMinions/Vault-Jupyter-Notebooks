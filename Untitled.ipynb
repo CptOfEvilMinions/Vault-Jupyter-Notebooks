{
 "cells": [
  {
   "cell_type": "code",
   "execution_count": 11,
   "metadata": {},
   "outputs": [
    {
     "name": "stdout",
     "output_type": "stream",
     "text": [
      "https://vault.hackinglab.local/v1/secrets/data/incident-response/jupyter-notebooks\n",
      "Enter SHA256 file hash: 423a0799efe41b28a8b765fa505699183c8278d5a7bf07658b3bd507bfa5346f\n",
      "Malicious score: 53/70\n"
     ]
    }
   ],
   "source": [
    "import getpass \n",
    "import requests\n",
    "import os\n",
    "\n",
    "\n",
    "VAULT_ADDR = os.getenv('VAULT_ADDR') or getpass.getpass(\"Enter Vault URL: \")\n",
    "VAULT_SECRET_PATH = \"/secrets/data/incident-response/jupyter-notebooks\"\n",
    "VAULT_TOKEN = open(os.path.expanduser('~/.vault-token')).read() or os.getenv('VAULT_TOKEN') or getpass.getpass(\"Enter Vault token: \")\n",
    "\n",
    "def getVaultSecrets(VAULT_ADD, VAULT_SECRET_PATH, VAULT_TOKEN):\n",
    "    auth_header = {\n",
    "        \"X-Vault-Token\": VAULT_TOKEN\n",
    "    }\n",
    "    url = f\"{VAULT_ADDR}/v1{VAULT_SECRET_PATH}\"\n",
    "    print (url)\n",
    "    r = requests.get(url=url, headers=auth_header)\n",
    "    return r.json()['data']['data']\n",
    "\n",
    "def getVTIresults(VTI_API_KEY, sha256_file_hash):\n",
    "    auth_header = {\n",
    "        \"x-apikey\": VTI_API_KEY\n",
    "    }\n",
    "    url = f\"https://www.virustotal.com/api/v3/files/{sha256_file_hash}\"\n",
    "    r = requests.get(url=url, headers=auth_header)\n",
    "    return r.json()\n",
    "\n",
    "vault_secrets = getVaultSecrets(VAULT_ADDR, VAULT_SECRET_PATH, VAULT_TOKEN)\n",
    "\n",
    "\n",
    "sha256_file_hash = input(\"Enter SHA256 file hash: \")\n",
    "\n",
    "vti_results = getVTIresults(vault_secrets['vti-api-key'], sha256_file_hash)\n",
    "\n",
    "print (f\"Malicious score: {vti_results['data']['attributes']['last_analysis_stats']['malicious']}/{vti_results['data']['attributes']['last_analysis_stats']['malicious'] + vti_results['data']['attributes']['last_analysis_stats']['undetected']}\")"
   ]
  },
  {
   "cell_type": "code",
   "execution_count": null,
   "metadata": {},
   "outputs": [],
   "source": []
  }
 ],
 "metadata": {
  "kernelspec": {
   "display_name": "Python 3",
   "language": "python",
   "name": "python3"
  },
  "language_info": {
   "codemirror_mode": {
    "name": "ipython",
    "version": 3
   },
   "file_extension": ".py",
   "mimetype": "text/x-python",
   "name": "python",
   "nbconvert_exporter": "python",
   "pygments_lexer": "ipython3",
   "version": "3.7.3"
  }
 },
 "nbformat": 4,
 "nbformat_minor": 4
}

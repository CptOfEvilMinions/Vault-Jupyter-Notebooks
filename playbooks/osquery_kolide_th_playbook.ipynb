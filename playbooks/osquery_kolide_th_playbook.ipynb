{
 "cells": [
  {
   "cell_type": "code",
   "execution_count": 19,
   "metadata": {},
   "outputs": [
    {
     "name": "stdout",
     "output_type": "stream",
     "text": [
      "https://vault.hackinglab.local/v1/secrets/data/incident-response/jupyter-notebooks\n",
      "Enter Kolide URL: https://kolide.hackinglab.local:8443\n",
      "Enter Kolide username: admin\n",
      "Enter Kolide password: ········\n"
     ]
    },
    {
     "name": "stderr",
     "output_type": "stream",
     "text": [
      "/Users/thunderwagon/Development/Vault-Jupyter-Notebooks/playbooks/venv/lib/python3.7/site-packages/urllib3/connectionpool.py:988: InsecureRequestWarning: Unverified HTTPS request is being made to host 'kolide.hackinglab.local'. Adding certificate verification is strongly advised. See: https://urllib3.readthedocs.io/en/latest/advanced-usage.html#ssl-warnings\n",
      "  InsecureRequestWarning,\n",
      "/Users/thunderwagon/Development/Vault-Jupyter-Notebooks/playbooks/venv/lib/python3.7/site-packages/urllib3/connectionpool.py:988: InsecureRequestWarning: Unverified HTTPS request is being made to host 'kolide.hackinglab.local'. Adding certificate verification is strongly advised. See: https://urllib3.readthedocs.io/en/latest/advanced-usage.html#ssl-warnings\n",
      "  InsecureRequestWarning,\n"
     ]
    },
    {
     "name": "stdout",
     "output_type": "stream",
     "text": [
      "Getting results from Kolide\n",
      "Sending JWT\n",
      "Sending campaign ID\n",
      "Receiving...\n",
      "Host DESKTOP-569UBBQ:DC876CDA-DAAE-4823-97A2-E721EFC33227 has submitted results\n",
      "Received the following number of results: 1/1\n",
      "Close socket\n",
      "Received results from Kolide\n",
      "+-----------------+--------------+-----------+-----------------+----------------------+------------------------------------------------+\n",
      "|     Hostname    | Service Name | Signature | Malicious Score |   SHA256 file hash   |                   File path                    |\n",
      "+-----------------+--------------+-----------+-----------------+----------------------+------------------------------------------------+\n",
      "| DESKTOP-569UBBQ |   YXIeYOUo   |  missing  |       None      | 3c0e49b65ba7748a6244 | C:\\Users\\SUPERA~1\\AppData\\Local\\Temp\\TZoMb.exe |\n",
      "|                 |              |           |                 | b01916f10157c84e204f |                                                |\n",
      "|                 |              |           |                 | 3a888057831e44ea52bb |                                                |\n",
      "|                 |              |           |                 |         5e59         |                                                |\n",
      "+-----------------+--------------+-----------+-----------------+----------------------+------------------------------------------------+\n"
     ]
    }
   ],
   "source": [
    "\"\"\"\n",
    "The goal of this threat hunting playbook is to malicious Windows services\n",
    "\"\"\"\n",
    "from prettytable import PrettyTable\n",
    "from helpers import vault\n",
    "from helpers import kolide \n",
    "from helpers import vti\n",
    "import pandas as pd\n",
    "import getpass \n",
    "import os\n",
    "\n",
    "# Obtain the necessary values\n",
    "VAULT_ADDR = os.getenv('VAULT_ADDR') or getpass.getpass(\"Enter Vault URL: \")\n",
    "VAULT_SECRET_PATH = \"/secrets/data/incident-response/jupyter-notebooks\"\n",
    "VAULT_TOKEN = open(os.path.expanduser('~/.vault-token')).read() or os.getenv('VAULT_TOKEN') or getpass.getpass(\"Enter Vault token: \")\n",
    "\n",
    "# Osquery query settings\n",
    "#SELECT \n",
    "#    s.name, \n",
    "#    CASE WHEN instr(s.path, '\"') > 0 THEN substr(s.path, 2, instr(substr(s.path, 2), '\"')-1) ELSE split(s.path, ' ', 0) END as imagepath, \n",
    "#    a.result as signature, \n",
    "#    h.sha256 \n",
    "#FROM services s \n",
    "#    JOIN authenticode a ON imagepath=a.path \n",
    "#    JOIN hash h ON imagepath=h.path \n",
    "#    WHERE result != 'trusted' \n",
    "#    GROUP by imagepath;\n",
    "#+------+------------------------------------------------+-----------+------------------------------------------------------------------+\n",
    "#| name | imagepath                                      | signature | sha256                                                           |\n",
    "#+------+------------------------------------------------+-----------+------------------------------------------------------------------+\n",
    "#| BtiM | C:\\Users\\SUPERA~1\\AppData\\Local\\Temp\\zthCB.exe | missing   | c4612fc4073a4cfe5179ec6cc0a63eb9e201f0b3b5fb1239958e88a716b83955 |\n",
    "#+------+------------------------------------------------+-----------+------------------------------------------------------------------+\n",
    "osquery_labels_to_scan = [\"MS Windows\"]\n",
    "osquery_hosts_to_scan = []\n",
    "osquery_query = \"\"\"SELECT s.name, CASE WHEN instr(s.path, '\"') > 0 THEN substr(s.path, 2, instr(substr(s.path, 2), '\"')-1) ELSE split(s.path, ' ', 0) END as imagepath, a.result as signature, h.sha256 FROM services s JOIN authenticode a ON imagepath=a.path JOIN hash h ON imagepath=h.path WHERE result != 'trusted' GROUP by imagepath;\"\"\"\n",
    "\n",
    "# Get and extract Vault secrets\n",
    "vault_secrets = vault.GetVaultSecrets(VAULT_ADDR, VAULT_SECRET_PATH, VAULT_TOKEN)\n",
    "VTI_API_KEY = vault_secrets['vti-api-key']\n",
    "\n",
    "# Obtain/generate Kolide URL\n",
    "KOLIDE_URL = str()\n",
    "if os.getenv('KOLIDE_URL') is not None:\n",
    "    KOLIDE_URL = input(\"Enter Kolide URL: \")\n",
    "    \n",
    "# Obtain/generate Kolide JWT\n",
    "kolide_jwt = str()\n",
    "if os.getenv('KOLIDE_TOKEN') is not None:\n",
    "    username = input(\"Enter Kolide username: \")\n",
    "    password = getpass.getpass(\"Enter Kolide password: \")\n",
    "    kolide_jwt = kolide.AuthenticateToKolide(KOLIDE_URL, username, password)\n",
    "    \n",
    "# Submit query\n",
    "kolide_query_campaign_id = kolide.CreateLiveQuery(KOLIDE_URL, kolide_jwt, osquery_query, hosts=osquery_hosts_to_scan, labels=osquery_labels_to_scan)\n",
    "\n",
    "# Retrieve results\n",
    "print (\"Getting results from Kolide\")\n",
    "results = kolide.GetKolideLiveQueryResults(KOLIDE_URL, kolide_jwt, kolide_query_campaign_id)\n",
    "print (\"Received results from Kolide\")\n",
    "\n",
    "\n",
    "# Generate results table\n",
    "x = PrettyTable()\n",
    "x.field_names = ['Hostname','Service Name','Signature','Malicious Score', 'SHA256 file hash', 'File path']\n",
    "x._max_width = {\"SHA256 file hash\" : 20, \"Field 3\" : 25}\n",
    "for result in results:\n",
    "    for row in result['data']['rows']:\n",
    "        # Get VTI result for SHA256 fiel hash\n",
    "        vti_result = vti.GetVTIresults(VTI_API_KEY, row['sha256'])\n",
    "\n",
    "        if vti_result.get('error', None):\n",
    "            x.add_row([row['host_hostname'], row['name'], row['signature'], None, row['sha256'],row['imagepath']])\n",
    "        else:\n",
    "            malicious_score = vti_result['data']['attributes']['last_analysis_stats']['malicious']\n",
    "            if malicious_score > 20:\n",
    "                x.add_row([row['host_hostname'], row['name'], row['signature'], malicious_score, row['sha256'],row['imagepath']])\n",
    "print(x)\n",
    "\n",
    "        "
   ]
  },
  {
   "cell_type": "code",
   "execution_count": 16,
   "metadata": {},
   "outputs": [
    {
     "data": {
      "text/html": [
       "<style>.container { width:100% !important; }</style>"
      ],
      "text/plain": [
       "<IPython.core.display.HTML object>"
      ]
     },
     "metadata": {},
     "output_type": "display_data"
    }
   ],
   "source": [
    "from IPython.core.display import display, HTML\n",
    "display(HTML(\"<style>.container { width:100% !important; }</style>\"))\n"
   ]
  },
  {
   "cell_type": "code",
   "execution_count": null,
   "metadata": {},
   "outputs": [],
   "source": []
  }
 ],
 "metadata": {
  "kernelspec": {
   "display_name": "Python 3",
   "language": "python",
   "name": "python3"
  },
  "language_info": {
   "codemirror_mode": {
    "name": "ipython",
    "version": 3
   },
   "file_extension": ".py",
   "mimetype": "text/x-python",
   "name": "python",
   "nbconvert_exporter": "python",
   "pygments_lexer": "ipython3",
   "version": "3.7.3"
  }
 },
 "nbformat": 4,
 "nbformat_minor": 2
}

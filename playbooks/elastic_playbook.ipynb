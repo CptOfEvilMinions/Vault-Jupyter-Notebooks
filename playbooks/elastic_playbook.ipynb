{
 "cells": [
  {
   "cell_type": "code",
   "execution_count": 24,
   "metadata": {},
   "outputs": [
    {
     "name": "stdout",
     "output_type": "stream",
     "text": [
      "https://vault.hackinglab.local/v1/secrets/data/incident-response/jupyter-notebooks\n",
      "Enter Elasticsearch index to search: bg-sysmon\n",
      "+-------------+----------+---------------------+------+----------------+------+------------------------------------------+----------------------+\n",
      "| Sysmon code | Hostname | parent process name | ppid |  process name  | pid  |               Command line               |     Document ID      |\n",
      "+-------------+----------+---------------------+------+----------------+------+------------------------------------------+----------------------+\n",
      "|      1      |  saturn  |     WmiPrvSE.exe    | 1652 | powershell.exe | 3956 | powershell -noP -sta -w 1 -enc  SQBGACgA | WBXAWHMB43T4WvXhrRxh |\n",
      "|             |          |                     |      |                |      | JABQAFMAVgBFAHIAcwBJAE8ATgBUAGEAYgBMAEUA |                      |\n",
      "|             |          |                     |      |                |      |           LgBQAFMAVgBFAHIAUwBp           |                      |\n",
      "|      1      | jupiter  |       cmd.exe       | 2052 | powershell.exe | 3836 | C:\\Windows\\System32\\WindowsPowershell\\v1 | JhUPWXMB43T4WvXho9dI |\n",
      "|             |          |                     |      |                |      |    .0\\powershell  -noP -sta -w 1 -enc    |                      |\n",
      "|             |          |                     |      |                |      |         SQBmACgAJABQAFMAVgBFAFIA         |                      |\n",
      "|      1      | jupiter  |       cmd.exe       | 4340 | powershell.exe | 3672 | C:\\Windows\\System32\\WindowsPowershell\\v1 | ghUbWXMB43T4WvXh_u7h |\n",
      "|             |          |                     |      |                |      |    .0\\powershell  -noP -sta -w 1 -enc    |                      |\n",
      "|             |          |                     |      |                |      |         SQBGACgAJABQAFMAVgBlAHIA         |                      |\n",
      "+-------------+----------+---------------------+------+----------------+------+------------------------------------------+----------------------+\n"
     ]
    }
   ],
   "source": [
    "from prettytable import PrettyTable\n",
    "from helpers import vault\n",
    "from helpers import elastic \n",
    "from helpers import vault\n",
    "import getpass \n",
    "import os\n",
    "\n",
    "# Obtain the necessary values\n",
    "VAULT_ADDR = os.getenv('VAULT_ADDR') or getpass.getpass(\"Enter Vault URL: \")\n",
    "VAULT_SECRET_PATH = \"/secrets/data/incident-response/jupyter-notebooks\"\n",
    "VAULT_TOKEN = open(os.path.expanduser('~/.vault-token')).read() or os.getenv('VAULT_TOKEN') or getpass.getpass(\"Enter Vault token: \")\n",
    "\n",
    "# Get and extract Vault secrets\n",
    "vault_secrets = vault.GetVaultSecrets(VAULT_ADDR, VAULT_SECRET_PATH, VAULT_TOKEN)\n",
    "elasticsearch_username = vault_secrets['elasticsearch-username']\n",
    "elasticsearch_password = vault_secrets['elasticsearch-password']\n",
    "elasticsearch_hostname = vault_secrets['elasticsearch-hostname']\n",
    "\n",
    "# Elasticsearch query to look for Powershell Empire\n",
    "query_body = {\n",
    "  \"query\": {\n",
    "    \"bool\": {\n",
    "      \"must\": [\n",
    "            {\n",
    "              \"match\": {\n",
    "                \"process.command_line\": \"powershell -noP -sta -w 1 -enc\"\n",
    "               }\n",
    "            },\n",
    "            {\n",
    "              \"match\": {\n",
    "                \"process.name\": \"powershell.exe\"\n",
    "              }\n",
    "            },\n",
    "            {\n",
    "              \"match\": {\n",
    "                \"event.code\": \"1\"\n",
    "              }\n",
    "            }\n",
    "        ]\n",
    "    }\n",
    "  }\n",
    "}\n",
    "\n",
    "# Init ES connector\n",
    "es = elastic.InitESconnctor(elasticsearch_hostname, elasticsearch_username, elasticsearch_password, port=9200, scheme=\"http\")\n",
    "\n",
    "# Get Elasticsearch from user\n",
    "elasticsearch_index = input(\"Enter Elasticsearch index to search: \")\n",
    "\n",
    "# Get results\n",
    "results = elastic.QueryElasticsearch(es, elasticsearch_index, query_body)\n",
    "\n",
    "x = PrettyTable()\n",
    "x.field_names = ['Sysmon code', 'Hostname',  'parent process name', 'ppid', 'process name', 'pid', 'Command line', 'Document ID']\n",
    "x._max_width = {\"Command line\" : 40}\n",
    "for entry in results['hits']['hits']:\n",
    "    elastic_doc_id = entry['_id']\n",
    "    \n",
    "    event_code = entry['_source']['winlog']['event_id']\n",
    "    hostname = entry['_source']['host']['hostname']\n",
    "    \n",
    "    parent_proc_name = entry['_source']['process']['parent']['name']\n",
    "    ppid = entry['_source']['process']['parent']['pid']\n",
    "    proc_name = entry['_source']['process']['name']\n",
    "    pid = entry['_source']['process']['pid']\n",
    "    cmd = entry['_source']['process']['command_line']\n",
    "    x.add_row([event_code, hostname, parent_proc_name, ppid, proc_name, pid, cmd[:100], elastic_doc_id])\n",
    "print(x)\n"
   ]
  },
  {
   "cell_type": "code",
   "execution_count": 14,
   "metadata": {},
   "outputs": [
    {
     "data": {
      "text/html": [
       "<style>.container { width:100% !important; }</style>"
      ],
      "text/plain": [
       "<IPython.core.display.HTML object>"
      ]
     },
     "metadata": {},
     "output_type": "display_data"
    }
   ],
   "source": [
    "from IPython.core.display import display, HTML\n",
    "display(HTML(\"<style>.container { width:100% !important; }</style>\"))"
   ]
  },
  {
   "cell_type": "code",
   "execution_count": null,
   "metadata": {},
   "outputs": [],
   "source": []
  }
 ],
 "metadata": {
  "kernelspec": {
   "display_name": "Python 3",
   "language": "python",
   "name": "python3"
  },
  "language_info": {
   "codemirror_mode": {
    "name": "ipython",
    "version": 3
   },
   "file_extension": ".py",
   "mimetype": "text/x-python",
   "name": "python",
   "nbconvert_exporter": "python",
   "pygments_lexer": "ipython3",
   "version": "3.7.3"
  }
 },
 "nbformat": 4,
 "nbformat_minor": 2
}

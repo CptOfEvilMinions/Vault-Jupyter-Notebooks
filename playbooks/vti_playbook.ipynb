{
 "cells": [
  {
   "cell_type": "code",
   "execution_count": 1,
   "metadata": {},
   "outputs": [
    {
     "name": "stdout",
     "output_type": "stream",
     "text": [
      "https://vault.hackinglab.local/v1/secrets/data/incident-response/jupyter-notebooks\n",
      "Enter SHA256 file hash: 423a0799efe41b28a8b765fa505699183c8278d5a7bf07658b3bd507bfa5346f\n",
      "+------------------------------------------------------------------+-----------------+\n",
      "|                         Sha256 file hash                         | Malicious score |\n",
      "+------------------------------------------------------------------+-----------------+\n",
      "| 423a0799efe41b28a8b765fa505699183c8278d5a7bf07658b3bd507bfa5346f |      53/70      |\n",
      "+------------------------------------------------------------------+-----------------+\n"
     ]
    }
   ],
   "source": [
    "from prettytable import PrettyTable\n",
    "from helpers import vault\n",
    "from helpers import vti\n",
    "import getpass \n",
    "import os\n",
    "\n",
    "# Obtain the necessary values\n",
    "VAULT_ADDR = os.getenv('VAULT_ADDR') or getpass.getpass(\"Enter Vault URL: \")\n",
    "VAULT_SECRET_PATH = \"/secrets/data/incident-response/jupyter-notebooks\"\n",
    "VAULT_TOKEN = open(os.path.expanduser('~/.vault-token')).read() or os.getenv('VAULT_TOKEN') or getpass.getpass(\"Enter Vault token: \")\n",
    "\n",
    "# Request secrets for incident responders\n",
    "vault_secrets = vault.GetVaultSecrets(VAULT_ADDR, VAULT_SECRET_PATH, VAULT_TOKEN)\n",
    "\n",
    "# Request user to enter a SHA256 file hash\n",
    "sha256_file_hash = input(\"Enter SHA256 file hash: \")\n",
    "\n",
    "# Request results from Virustotal\n",
    "vti_results = vti.GetVTIresults(vault_secrets['vti-api-key'], sha256_file_hash)\n",
    "\n",
    "# Print the VTI malicious score to user\n",
    "x = PrettyTable()\n",
    "x.field_names = ['Sha256 file hash', 'Malicious score']\n",
    "malicious =  vti_results['data']['attributes']['last_analysis_stats']['malicious']\n",
    "undetected = vti_results['data']['attributes']['last_analysis_stats']['undetected']\n",
    "x.add_row([sha256_file_hash, f\"{malicious}/{malicious + undetected}\"])\n",
    "print (x)\n",
    "\n"
   ]
  },
  {
   "cell_type": "code",
   "execution_count": null,
   "metadata": {},
   "outputs": [],
   "source": []
  }
 ],
 "metadata": {
  "kernelspec": {
   "display_name": "Python 3",
   "language": "python",
   "name": "python3"
  },
  "language_info": {
   "codemirror_mode": {
    "name": "ipython",
    "version": 3
   },
   "file_extension": ".py",
   "mimetype": "text/x-python",
   "name": "python",
   "nbconvert_exporter": "python",
   "pygments_lexer": "ipython3",
   "version": "3.7.3"
  }
 },
 "nbformat": 4,
 "nbformat_minor": 4
}
